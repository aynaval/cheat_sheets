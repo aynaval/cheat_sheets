{
 "cells": [
  {
   "cell_type": "markdown",
   "id": "1e755b19",
   "metadata": {},
   "source": [
    "# Pandas \n",
    "Pandas is a python library used to analyze, clean, explore and manipulate data."
   ]
  },
  {
   "cell_type": "markdown",
   "id": "ce8c7c37",
   "metadata": {},
   "source": [
    "# Importing pandas "
   ]
  },
  {
   "cell_type": "code",
   "execution_count": 1,
   "id": "e0fb19f1",
   "metadata": {},
   "outputs": [],
   "source": [
    "import pandas as pd"
   ]
  },
  {
   "cell_type": "code",
   "execution_count": 2,
   "id": "82337e8e",
   "metadata": {},
   "outputs": [
    {
     "data": {
      "text/plain": [
       "'1.2.4'"
      ]
     },
     "execution_count": 2,
     "metadata": {},
     "output_type": "execute_result"
    }
   ],
   "source": [
    "pd.__version__"
   ]
  },
  {
   "cell_type": "markdown",
   "id": "ebc0b6fc",
   "metadata": {},
   "source": [
    "# Series \n",
    "Its a one dimentional array holding data of any type"
   ]
  },
  {
   "cell_type": "code",
   "execution_count": 3,
   "id": "f36d0fab",
   "metadata": {},
   "outputs": [],
   "source": [
    "a = [1,2,3,'a','b']"
   ]
  },
  {
   "cell_type": "code",
   "execution_count": 4,
   "id": "bbb8844e",
   "metadata": {},
   "outputs": [
    {
     "data": {
      "text/plain": [
       "[1, 2, 3, 'a', 'b']"
      ]
     },
     "execution_count": 4,
     "metadata": {},
     "output_type": "execute_result"
    }
   ],
   "source": [
    "a"
   ]
  },
  {
   "cell_type": "code",
   "execution_count": 5,
   "id": "85e84f12",
   "metadata": {},
   "outputs": [
    {
     "data": {
      "text/plain": [
       "0    1\n",
       "1    2\n",
       "2    3\n",
       "3    a\n",
       "4    b\n",
       "dtype: object"
      ]
     },
     "execution_count": 5,
     "metadata": {},
     "output_type": "execute_result"
    }
   ],
   "source": [
    "myvar = pd.Series(a)\n",
    "myvar"
   ]
  },
  {
   "cell_type": "markdown",
   "id": "51d26cd8",
   "metadata": {},
   "source": [
    "# Lables \n",
    "if nothing is specified, the values are labled with index number. Staring with zer0\n",
    "\n",
    "To create lables : With the **index** argument we can create our own lables"
   ]
  },
  {
   "cell_type": "code",
   "execution_count": 6,
   "id": "a2db16b1",
   "metadata": {},
   "outputs": [
    {
     "data": {
      "text/plain": [
       "X    1\n",
       "Y    2\n",
       "Z    3\n",
       "1    a\n",
       "2    b\n",
       "dtype: object"
      ]
     },
     "execution_count": 6,
     "metadata": {},
     "output_type": "execute_result"
    }
   ],
   "source": [
    "myvar = pd.Series(a, index=['X','Y','Z',1,2])\n",
    "myvar"
   ]
  },
  {
   "cell_type": "code",
   "execution_count": 7,
   "id": "d9d1311e",
   "metadata": {},
   "outputs": [],
   "source": [
    "# The keys od the dictionary become the lable\n",
    "calories = {'day1':420,'day2':380,'day3':390} \n",
    "myvar = pd.Series(calories)"
   ]
  },
  {
   "cell_type": "code",
   "execution_count": 8,
   "id": "8f793da8",
   "metadata": {},
   "outputs": [
    {
     "data": {
      "text/plain": [
       "day1    420\n",
       "day2    380\n",
       "day3    390\n",
       "dtype: int64"
      ]
     },
     "execution_count": 8,
     "metadata": {},
     "output_type": "execute_result"
    }
   ],
   "source": [
    "myvar"
   ]
  },
  {
   "cell_type": "code",
   "execution_count": 9,
   "id": "b8f92da0",
   "metadata": {},
   "outputs": [
    {
     "data": {
      "text/plain": [
       "day1    420\n",
       "day2    380\n",
       "dtype: int64"
      ]
     },
     "execution_count": 9,
     "metadata": {},
     "output_type": "execute_result"
    }
   ],
   "source": [
    "myvar = pd.Series(calories,index=['day1','day2'])\n",
    "myvar"
   ]
  },
  {
   "cell_type": "markdown",
   "id": "562df988",
   "metadata": {},
   "source": [
    "# Dataframe \n",
    "Pandas DataFrame is a 2 dimentional data structure, like a 2 dimential array or a table with rows and columns.\n",
    "\n",
    "Series is like a column, a DataFrame is the whole table."
   ]
  },
  {
   "cell_type": "code",
   "execution_count": 10,
   "id": "2859cc44",
   "metadata": {},
   "outputs": [
    {
     "data": {
      "text/html": [
       "<div>\n",
       "<style scoped>\n",
       "    .dataframe tbody tr th:only-of-type {\n",
       "        vertical-align: middle;\n",
       "    }\n",
       "\n",
       "    .dataframe tbody tr th {\n",
       "        vertical-align: top;\n",
       "    }\n",
       "\n",
       "    .dataframe thead th {\n",
       "        text-align: right;\n",
       "    }\n",
       "</style>\n",
       "<table border=\"1\" class=\"dataframe\">\n",
       "  <thead>\n",
       "    <tr style=\"text-align: right;\">\n",
       "      <th></th>\n",
       "      <th>calories</th>\n",
       "      <th>duration</th>\n",
       "    </tr>\n",
       "  </thead>\n",
       "  <tbody>\n",
       "    <tr>\n",
       "      <th>0</th>\n",
       "      <td>420</td>\n",
       "      <td>50</td>\n",
       "    </tr>\n",
       "    <tr>\n",
       "      <th>1</th>\n",
       "      <td>380</td>\n",
       "      <td>40</td>\n",
       "    </tr>\n",
       "    <tr>\n",
       "      <th>2</th>\n",
       "      <td>390</td>\n",
       "      <td>45</td>\n",
       "    </tr>\n",
       "  </tbody>\n",
       "</table>\n",
       "</div>"
      ],
      "text/plain": [
       "   calories  duration\n",
       "0       420        50\n",
       "1       380        40\n",
       "2       390        45"
      ]
     },
     "execution_count": 10,
     "metadata": {},
     "output_type": "execute_result"
    }
   ],
   "source": [
    "data = {\n",
    "    'calories':[420,380,390],\n",
    "       'duration':[50,40,45]\n",
    "        }\n",
    "myvar = pd.DataFrame(data)\n",
    "myvar\n"
   ]
  },
  {
   "cell_type": "markdown",
   "id": "e88bf23f",
   "metadata": {},
   "source": [
    "# Locate a row\n",
    "Pandas use the **loc** attribute to return one or more specified row(s)."
   ]
  },
  {
   "cell_type": "code",
   "execution_count": 11,
   "id": "f9cf2e32",
   "metadata": {},
   "outputs": [
    {
     "data": {
      "text/plain": [
       "calories    420\n",
       "duration     50\n",
       "Name: 0, dtype: int64"
      ]
     },
     "execution_count": 11,
     "metadata": {},
     "output_type": "execute_result"
    }
   ],
   "source": [
    "myvar.loc[0]"
   ]
  },
  {
   "cell_type": "code",
   "execution_count": 12,
   "id": "481a62b5",
   "metadata": {},
   "outputs": [
    {
     "data": {
      "text/html": [
       "<div>\n",
       "<style scoped>\n",
       "    .dataframe tbody tr th:only-of-type {\n",
       "        vertical-align: middle;\n",
       "    }\n",
       "\n",
       "    .dataframe tbody tr th {\n",
       "        vertical-align: top;\n",
       "    }\n",
       "\n",
       "    .dataframe thead th {\n",
       "        text-align: right;\n",
       "    }\n",
       "</style>\n",
       "<table border=\"1\" class=\"dataframe\">\n",
       "  <thead>\n",
       "    <tr style=\"text-align: right;\">\n",
       "      <th></th>\n",
       "      <th>calories</th>\n",
       "      <th>duration</th>\n",
       "    </tr>\n",
       "  </thead>\n",
       "  <tbody>\n",
       "    <tr>\n",
       "      <th>0</th>\n",
       "      <td>420</td>\n",
       "      <td>50</td>\n",
       "    </tr>\n",
       "    <tr>\n",
       "      <th>1</th>\n",
       "      <td>380</td>\n",
       "      <td>40</td>\n",
       "    </tr>\n",
       "  </tbody>\n",
       "</table>\n",
       "</div>"
      ],
      "text/plain": [
       "   calories  duration\n",
       "0       420        50\n",
       "1       380        40"
      ]
     },
     "execution_count": 12,
     "metadata": {},
     "output_type": "execute_result"
    }
   ],
   "source": [
    "myvar.loc[[0,1]]"
   ]
  },
  {
   "cell_type": "code",
   "execution_count": 13,
   "id": "58ca7217",
   "metadata": {},
   "outputs": [
    {
     "data": {
      "text/plain": [
       "day1    420\n",
       "day2    380\n",
       "dtype: int64"
      ]
     },
     "execution_count": 13,
     "metadata": {},
     "output_type": "execute_result"
    }
   ],
   "source": [
    "df = pd.Series(calories,index=['day1','day2'])\n",
    "df"
   ]
  },
  {
   "cell_type": "code",
   "execution_count": 14,
   "id": "4e7551b9",
   "metadata": {},
   "outputs": [
    {
     "data": {
      "text/plain": [
       "420"
      ]
     },
     "execution_count": 14,
     "metadata": {},
     "output_type": "execute_result"
    }
   ],
   "source": [
    "df.loc['day1']"
   ]
  },
  {
   "cell_type": "markdown",
   "id": "c838c957",
   "metadata": {},
   "source": [
    "# Importing Data"
   ]
  },
  {
   "cell_type": "code",
   "execution_count": 15,
   "id": "281ec561",
   "metadata": {
    "scrolled": false
   },
   "outputs": [],
   "source": [
    "data = pd.read_csv(\"/home/aynaval/Desktop/sample_project/zero-to-mastery-ml-master/data/car-sales-extended.csv\")"
   ]
  },
  {
   "cell_type": "code",
   "execution_count": 17,
   "id": "96499b2c",
   "metadata": {},
   "outputs": [
    {
     "data": {
      "text/plain": [
       "'       Make Colour  Odometer (KM)  Doors  Price\\n0     Honda  White          35431      4  15323\\n1       BMW   Blue         192714      5  19943\\n2     Honda  White          84714      4  28343\\n3    Toyota  White         154365      4  13434\\n4    Nissan   Blue         181577      3  14043\\n5     Honda    Red          42652      4  23883\\n6    Toyota   Blue         163453      4   8473\\n7     Honda  White          43120      4  20306\\n8    Nissan  White         130538      4   9374\\n9     Honda   Blue          51029      4  26683\\n10   Nissan  White         167421      4  16259\\n11   Nissan  Green          17119      4   6160\\n12   Nissan  White         102303      4  16909\\n13   Nissan  White         134181      4  11121\\n14    Honda   Blue         199833      4  18946\\n15   Toyota   Blue         205592      4  16290\\n16   Toyota    Red          96742      4  34465\\n17      BMW  White         194189      5  17177\\n18   Nissan  White          67991      3   9109\\n19   Nissan   Blue         215820      4   6010\\n20   Toyota   Blue         124844      4  24130\\n21    Honda   Blue          30615      4  29653\\n22   Toyota  White         148744      4  22489\\n23    Honda  Green         130075      4  21242\\n24    Honda   Blue         172718      4  14274\\n25    Honda   Blue         125819      4  15686\\n26    Honda  White         180390      4  13344\\n27    Honda  Green          82783      4  10984\\n28    Honda  White          56687      4   6135\\n29   Toyota  White         112004      4  13586\\n30   Nissan   Blue          34024      4  23929\\n31   Toyota  White         108569      4   6866\\n32   Nissan  White         203795      4   9330\\n33   Nissan  Green         153554      3   9780\\n34    Honda   Blue          71949      4  17516\\n35    Honda   Blue         191622      4   8738\\n36   Nissan   Blue          38186      4  23438\\n37   Nissan  White          69888      4  15131\\n38   Nissan   Blue         146430      3   9224\\n39   Toyota  Green         109868      4   6574\\n40   Toyota  White         177894      4   9229\\n41   Toyota   Blue         189209      4   7100\\n42    Honda  Black         200490      4   6337\\n43   Toyota   Blue         141617      4  19085\\n44   Toyota   Blue         213893      4   5743\\n45   Nissan   Blue         231057      4   5925\\n46   Toyota  White         100938      4  25196\\n47   Toyota   Blue         243969      4  16138\\n48   Nissan  White         107096      3   6075\\n49   Toyota  Black          86333      4   9928\\n50   Toyota    Red         184878      4   7445\\n51    Honda  White         161068      4  13698\\n52   Toyota   Blue          77646      4  17422\\n53   Toyota   Blue         246817      4   8269\\n54   Toyota  White         109384      4   9918\\n55      BMW  White          79937      5  48686\\n56    Honda  White          82039      4  15662\\n57      BMW    Red         162176      5  19186\\n58   Toyota    Red          97375      4  11479\\n59   Toyota   Blue         230908      4  12883\\n60      BMW    Red         208124      5  24668\\n61    Honda  Black          16933      4  12172\\n62    Honda  Green          57198      4  25068\\n63    Honda  Green          47019      4  20370\\n64   Toyota  White         170085      4   5383\\n65      BMW  White         178796      5  18396\\n66   Toyota   Blue         223390      4   9648\\n67   Toyota  Black          93054      4   6652\\n68   Toyota   Blue          42459      4   6386\\n69      BMW  White          37513      5  32379\\n70   Nissan  White         123121      4  22436\\n71   Toyota  Green         204213      4   6860\\n72    Honda  White         116986      4   5648\\n73   Toyota    Red         227262      4  12001\\n74   Toyota   Blue         191232      4  18355\\n75   Toyota   Blue         156478      4  20424\\n76   Toyota   Blue         140465      4  15154\\n77   Toyota  White         126669      4  18484\\n78   Toyota   Blue         238425      4   6502\\n79    Honda   Blue         186146      4  18310\\n80    Honda  Black         149879      4   8200\\n81   Toyota   Blue          34097      4  20142\\n82   Nissan   Blue         180021      3  13199\\n83   Toyota   Blue         248447      4   5708\\n84   Toyota  Green          61651      4  13430\\n85   Nissan   Blue          24219      3  10283\\n86   Nissan   Blue         209359      4   3300\\n87    Honda   Blue         108415      4  20936\\n88   Nissan    Red          61892      4  18160\\n89   Toyota   Blue          90249      4  35988\\n90   Nissan  White         197844      4   5776\\n91   Toyota  White          53765      4  18595\\n92    Honda  White         115183      4   6481\\n93    Honda  White         130783      4   6283\\n94    Honda  Green         130076      4   6762\\n95    Honda   Blue         143707      4  16337\\n96   Toyota   Blue          29856      4  11392\\n97   Toyota  Black         133433      4  16519\\n98   Toyota    Red         147455      4  22296\\n99    Honda   Blue          48069      4  12196\\n100   Honda   Blue         146233      4  14202\\n101  Toyota  White         224657      4  13250\\n102   Honda  White         150582      4   7404\\n103   Honda  White         195787      4   5316\\n104   Honda  White          71329      4  10125\\n105   Honda   Blue         229206      4  13614\\n106  Toyota  White         218803      4  13283\\n107   Honda  White         184869      4  11584\\n108  Nissan   Blue         129769      3  15617\\n109   Honda   Blue         219217      4   4747\\n110  Toyota  White         221050      4   6391\\n111  Nissan  White          82726      4  17802\\n112  Nissan  White          72122      4  22943\\n113  Nissan   Blue          43149      4  19502\\n114  Nissan  White          24077      4  15541\\n115  Toyota  Black          20714      4  30407\\n116  Toyota  Black          26979      4  35432\\n117  Nissan  White         223889      4  10091\\n118  Nissan   Blue         166938      4  11485\\n119     BMW  White          18394      5  50822\\n120  Nissan  White         212081      3  11192\\n121  Nissan   Blue         206073      4   3944\\n122  Nissan   Blue         174008      4  19000\\n123  Toyota  White         138274      4   7994\\n124  Nissan  Black          67364      4  15604\\n125  Toyota   Blue          83784      4  11648\\n126  Toyota  White          71805      4  35600\\n127     BMW    Red          35807      5  17596\\n128  Nissan  White         175777      4  13427\\n129  Toyota  White          94818      4  35358\\n130  Nissan   Blue          18994      4   7813\\n131  Toyota    Red          29689      4   8743\\n132  Toyota  White         109013      4  10628\\n133   Honda  Green         125802      4   4754\\n134  Toyota  White          22788      4   6784\\n135   Honda   Blue          43981      4  17584\\n136  Toyota  White         132055      4  10582\\n137   Honda   Blue          31677      4  21754\\n138  Toyota    Red         133195      4  14795\\n139   Honda   Blue         137233      4   8809\\n140  Nissan   Blue         179666      4  19258\\n141  Toyota  White          80378      4  34133\\n142   Honda  White          21393      4  20490\\n143  Nissan   Blue          41554      4  31536\\n144     BMW   Blue          98886      5  30412\\n145  Nissan  White         123923      4  14986\\n146     BMW  White         148949      3  23074\\n147  Toyota   Blue         103909      4   4566\\n148  Toyota  White          50604      4  10038\\n149  Toyota  Green         168432      4  20497\\n150  Nissan  White         129188      4   8071\\n151   Honda    Red         223416      4  10707\\n152  Toyota  White          66538      4   6197\\n153  Nissan  Green         149042      3  10835\\n154  Nissan  White         149347      3   5332\\n155     BMW  White          39267      5  19106\\n156  Nissan  White         150826      4  12392\\n157  Toyota  Black         147540      4  20155\\n158  Toyota  Green         218482      4  10198\\n159   Honda  White         202855      4   8260\\n160   Honda  White         213793      4  12402\\n161     BMW   Blue          86805      5  34110\\n162   Honda  White         100527      4  22616\\n163   Honda   Blue          37678      4   6361\\n164  Nissan  White         215169      4  14793\\n165  Nissan   Blue         211249      4  15767\\n166   Honda   Blue          96389      4   7861\\n167   Honda   Blue          50417      4  25847\\n168  Nissan   Blue         178405      4   8693\\n169  Nissan   Blue         163423      4   7193\\n170  Toyota   Blue          63975      4  21851\\n171  Toyota  White          97036      4  30114\\n172   Honda   Blue          54380      4  20282\\n173  Nissan  Black         240536      4   3247\\n174  Toyota  White         188755      4  17980\\n175  Toyota   Blue          51155      4  15960\\n176  Toyota   Blue          94916      4   7561\\n177  Toyota   Blue          38544      4  34286\\n178   Honda  White         113066      4  10076\\n179     BMW  Black         158339      5  23287\\n180  Toyota    Red          33400      4  12398\\n181  Nissan  White         118470      3  20075\\n182  Toyota   Blue          89501      4  12218\\n183  Toyota  White          87594      4  20100\\n184  Nissan  Green          32754      4  13146\\n185  Nissan    Red         191810      3  14189\\n186   Honda  Black          61749      4   9290\\n187  Toyota   Blue         237190      4   7800\\n188   Honda  White         166028      4  13056\\n189     BMW   Blue         126441      5  39738\\n190  Toyota  Green          58118      4   6848\\n191   Honda   Blue          76343      4   7097\\n192  Toyota  White         188338      4  13106\\n193  Toyota  Black          40285      4   7846\\n194   Honda  White          74192      4   8706\\n195  Toyota  Green         172401      4   5454\\n196   Honda   Blue          78153      4  10316\\n197  Toyota  Green         146940      4  25133\\n198  Nissan  White         193874      4  10596\\n199   Honda   Blue         184320      4   6978\\n200  Nissan  White          66461      3  25873\\n201   Honda    Red          95243      4  13559\\n202   Honda   Blue          84719      4  26402\\n203  Toyota   Blue          99761      4  10547\\n204  Nissan    Red         150563      4  16115\\n205  Toyota   Blue         154576      4  12553\\n206   Honda  White         211862      4  12476\\n207  Nissan  Black         125251      4  18306\\n208  Toyota   Blue          90856      4  33077\\n209   Honda  White         128411      4  22746\\n210  Toyota  Black          24764      4   8856\\n211   Honda  White          43437      4  28013\\n212   Honda  White          25729      4   9155\\n213   Honda  Green         238825      4   9530\\n214     BMW  Green         206446      5  19892\\n215     BMW  White          75042      5  38128\\n216   Honda   Blue          42324      4  12531\\n217  Toyota  White         183368      4  18198\\n218  Nissan   Blue         141962      4   5595\\n219  Toyota  Green         214179      4  12872\\n220     BMW  White         195419      5  29308\\n221  Nissan   Blue         158730      3  12104\\n222   Honda  White          28791      4  19052\\n223  Toyota  White         117504      4  25874\\n224   Honda   Blue          63825      4  23339\\n225  Toyota  Green         142598      4  21830\\n226  Toyota  White          88015      4  22794\\n227     BMW   Blue          79301      5  35004\\n228  Toyota    Red         241987      4   9734\\n229     BMW    Red          39323      5  18691\\n230  Nissan  White         209259      4  10823\\n231   Honda    Red         120306      4  18346\\n232  Toyota   Blue         148421      4   9953\\n233  Toyota   Blue         225286      4  12086\\n234   Honda  White         108206      4  13208\\n235  Toyota  Green          32080      4  19936\\n236   Honda   Blue          61828      4  27787\\n237   Honda   Blue         173693      4  11092\\n238     BMW  White         194157      5  34856\\n239  Toyota  Black         224479      4  10456\\n240   Honda   Blue         232904      4   7725\\n241  Nissan  White         196374      4   7032\\n242  Toyota  White          48184      4  15095\\n243  Nissan  Green         189739      4  16730\\n244   Honda    Red         164352      4  14160\\n245   Honda   Blue          26616      4   9521\\n246  Toyota  White         203804      4   5273\\n247  Toyota  White          58054      4  10180\\n248     BMW   Blue          63321      3  39021\\n249     BMW    Red          33911      5  31296\\n250     BMW  White         173915      5  14404\\n251  Toyota  Black         217253      4  16603\\n252   Honda   Blue         228037      4   7076\\n253  Toyota  Black         140756      4  26954\\n254  Nissan   Blue         179718      4  18182\\n255  Nissan   Blue         124116      4   5386\\n256  Nissan   Blue          65719      4  14622\\n257  Nissan    Red         128235      4   8327\\n258  Nissan    Red         157169      4   9010\\n259   Honda    Red          61504      4  12046\\n260  Toyota  White         242084      4  13111\\n261  Toyota  White          61623      4  35760\\n262   Honda  Green          46085      4  29681\\n263   Honda  White          67599      4  10516\\n264  Toyota  White          59222      4  32676\\n265   Honda  White         113250      4   9675\\n266   Honda  Black         237861      4  10374\\n267   Honda   Blue         136392      4  12146\\n268     BMW  White          29534      5  28414\\n269  Nissan  Green         190794      3  17917\\n270   Honda   Blue         223685      4   9379\\n271   Honda  White          85975      4  27640\\n272     BMW  White          23996      5  48239\\n273  Toyota   Blue          85473      4  22002\\n274  Toyota  White         236674      4  15234\\n275  Nissan   Blue         193135      3  13005\\n276   Honda  White          20601      4  28983\\n277     BMW   Blue         245427      5  17520\\n278   Honda   Blue         106494      4  17858\\n279  Toyota  White         196840      4  10646\\n280  Nissan  White         116279      4  16179\\n281     BMW   Blue         158266      3  16391\\n282   Honda  White         195829      4  17866\\n283  Toyota   Blue         239004      4   8566\\n284   Honda    Red         238609      4   5052\\n285  Toyota  Green          44436      4  17317\\n286   Honda  White         224292      4   6431\\n287  Nissan  White          43540      4   9263\\n288   Honda  Green          37606      4  13255\\n289  Nissan  White         215130      4  11768\\n290  Toyota  Black         198564      4   7708\\n291   Honda    Red          11035      4  10602\\n292  Toyota    Red         197616      4  14089\\n293   Honda  White         171260      4  18524\\n294  Toyota  White          20985      4  33353\\n295   Honda  White         246079      4  10872\\n296  Nissan  White         133441      4  21921\\n297  Toyota    Red         162665      4   7042\\n298  Toyota   Blue          44815      4   8460\\n299  Toyota  Black         103472      4  15184\\n300  Nissan  White         234161      4  13200\\n301  Toyota   Blue         222542      4   8834\\n302   Honda   Blue         230570      4  10676\\n303  Toyota  White         134862      4  12353\\n304  Toyota  White          55828      4  23311\\n305   Honda  White          61163      4  18375\\n306   Honda    Red         108681      4  10740\\n307  Nissan   Blue         174825      3   4863\\n308     BMW  Green         203517      5  26846\\n309  Toyota  Green         180760      4  10380\\n310  Toyota   Blue          52054      4  10888\\n311  Toyota   Blue         118308      4  20237\\n312  Toyota  White          12141      4  17556\\n313     BMW   Blue          85692      5  32887\\n314  Nissan   Blue         104355      4  18058\\n315  Toyota  White         230943      4  13560\\n316  Toyota  White          64158      4  19134\\n317   Honda  White          29514      4  19357\\n318   Honda  Green          94062      4  27057\\n319  Nissan  White         102039      3  23868\\n320  Toyota   Blue         179468      4   7813\\n321   Honda    Red         163045      4  17035\\n322  Toyota   Blue         165301      4  10429\\n323  Toyota   Blue         161572      4  15088\\n324  Toyota  Green         151291      4   6200\\n325  Toyota   Blue         234051      4  11616\\n326  Toyota   Blue         232912      4   6029\\n327     BMW   Blue         130817      3  31392\\n328  Toyota   Blue         135080      4  13652\\n329  Nissan   Blue         197823      3  17860\\n330  Toyota  White         170466      4   3974\\n331  Toyota  White         112292      4  24834\\n332  Nissan   Blue         195494      4   6460\\n333  Nissan   Blue         111015      3   7252\\n334   Honda   Blue         247869      4  11982\\n335  Toyota  Black         188514      4   8038\\n336  Toyota  Green         165225      4  10841\\n337   Honda  Black         175075      4   8064\\n338   Honda  White         187663      4  13433\\n339  Toyota    Red          65435      4  24949\\n340   Honda  White          80664      4  20981\\n341  Toyota  White         119439      4  17340\\n342  Toyota    Red          97345      4   6962\\n343   Honda   Blue         144093      4  17036\\n344  Nissan   Blue          73926      4  29635\\n345  Toyota  White         127161      4   4871\\n346   Honda  White          40749      4  25649\\n347  Nissan   Blue         192557      4   6672\\n348  Toyota  White         117571      4  23719\\n349     BMW  White         176864      5  24938\\n350   Honda   Blue         191658      4  17597\\n351  Toyota  Black         132103      4  10439\\n352   Honda    Red          47933      4  10301\\n353  Toyota  White          50756      4  11738\\n354   Honda   Blue         196835      4  15623\\n355   Honda   Blue         106744      4  16223\\n356  Toyota   Blue          96363      4   7469\\n357  Nissan  White         181271      4   3974\\n358     BMW   Blue         103283      3  22176\\n359  Toyota  White         134415      4   5125\\n360   Honda  Black         155682      4   9992\\n361  Toyota  White         164093      4   3893\\n362  Toyota   Blue         119745      4  23902\\n363  Nissan  Black          13266      4  14502\\n364   Honda  White         145850      4  17876\\n365  Nissan  White          24420      4  14198\\n366   Honda  White         213324      4   8704\\n367   Honda  White          34822      4  14613\\n368  Toyota    Red         180473      4   6568\\n369  Nissan  White         133069      3   5008\\n370   Honda  White          71283      4   7497\\n371   Honda   Blue          23545      4  13932\\n372   Honda  Black         178774      4  15047\\n373  Toyota   Blue         112223      4   4753\\n374  Toyota   Blue         198570      4  17284\\n375  Toyota  White         214493      4  12434\\n376  Nissan  White          64362      4  28993\\n377   Honda   Blue         104304      4  23017\\n378  Nissan   Blue          71527      4  17961\\n379   Honda  White         220876      4  13308\\n380  Nissan   Blue          76412      4  13492\\n381  Toyota   Blue         243255      4   7378\\n382  Nissan  White         103728      4   7061\\n383   Honda  White         144088      4   5838\\n384   Honda   Blue         196526      4   6242\\n385   Honda  White          89291      4  13703\\n386  Nissan   Blue          18044      3  14227\\n387  Nissan  White          88908      4  22155\\n388   Honda  White          24358      4  26675\\n389  Toyota  White         175955      4   7598\\n390  Toyota  White         223625      4   8500\\n391  Toyota  White         177571      4  14318\\n392  Toyota  White         227387      4   3895\\n393  Toyota   Blue         164956      4  10834\\n394     BMW   Blue          85320      3  16517\\n395  Toyota  Green          83293      4  19337\\n396  Toyota  White         210123      4  11731\\n397  Toyota  White         193629      4  12745\\n398  Toyota  White         241454      4   8179\\n399     BMW   Blue          93792      3  35264\\n400  Toyota    Red         157432      4   8260\\n401   Honda  Black         226391      4  15879\\n402   Honda   Blue         152547      4  10259\\n403  Nissan   Blue          10954      4  30439\\n404  Toyota  White          83594      4  13648\\n405     BMW   Blue         142189      3  23336\\n406   Honda   Blue         210446      4   3594\\n407   Honda   Blue         172266      4  18327\\n408  Toyota   Blue         169449      4  10855\\n409  Toyota  White         179727      4   8980\\n410  Toyota   Blue         244204      4   6121\\n411     BMW   Blue          72575      5  41294\\n412     BMW   Blue          55789      3  26677\\n413  Toyota  Black         240937      4   8201\\n414  Toyota    Red         193006      4   5101\\n415   Honda  White          10953      4  16636\\n416   Honda  White          18933      4   8014\\n417   Honda   Blue          37625      4   6241\\n418  Nissan  White         176135      3  17127\\n419   Honda   Blue         234760      4  11411\\n420   Honda  White         128072      4  18180\\n421  Toyota   Blue          81864      4  29293\\n422  Toyota  White         149466      4  12547\\n423  Nissan  Black         141109      4  23130\\n424  Toyota  White         189194      4   4946\\n425  Toyota   Blue          42480      4  19720\\n426  Toyota  White         146307      4  13508\\n427     BMW    Red         131587      5  15652\\n428  Toyota   Blue          98890      4  26926\\n429  Toyota   Blue         188658      4  14312\\n430  Nissan   Blue          45668      4  13310\\n431     BMW  Green         162607      5  14074\\n432  Toyota  White         149989      4   5260\\n433   Honda    Red         169579      4   8089\\n434  Toyota  White          36463      4  16805\\n435   Honda  White          28625      4   8753\\n436     BMW    Red         100060      5  38060\\n437  Nissan  White          43600      4  10030\\n438  Toyota   Blue          52196      4  11076\\n439  Toyota  Black          59249      4   9108\\n440   Honda   Blue         127589      4  15610\\n441  Nissan  Green          90446      4  13251\\n442  Nissan  Black          59335      4  28354\\n443  Toyota   Blue          71306      4  23747\\n444   Honda   Blue          73286      4  19629\\n445  Toyota  Black         121160      4   8380\\n446  Nissan  White          63355      4  22989\\n447  Toyota   Blue          98619      4  33324\\n448  Toyota   Blue         200597      4  13147\\n449   Honda  White         146703      4  20642\\n450   Honda   Blue         133117      4  10344\\n451     BMW  Black         192316      5  25490\\n452   Honda   Blue         127157      4   7682\\n453  Toyota   Blue         157782      4  12592\\n454   Honda  White         193179      4   7827\\n455   Honda  White         134949      4  17622\\n456  Toyota  White         216257      4  17171\\n457   Honda    Red         111727      4  10101\\n458  Toyota    Red          86480      4  16319\\n459  Toyota   Blue          73360      4  18653\\n460   Honda  White         164703      4  12201\\n461     BMW  White         143651      5  22597\\n462  Toyota  Black          58773      4  20893\\n463  Toyota  White          72118      4  16892\\n464   Honda  White          14700      4  26973\\n465  Toyota  White         117637      4  17256\\n466  Nissan  White         129820      4   6960\\n467   Honda  White          18246      4  21684\\n468  Toyota  White         141071      4   5094\\n469   Honda  White          92883      4  14931\\n470  Toyota  Green         119394      4  11773\\n471  Nissan  Black         178899      4   5222\\n472  Toyota  White         172018      4  10196\\n473  Toyota   Blue          98971      4  16226\\n474  Nissan   Blue         215026      4  11917\\n475   Honda    Red          33261      4  28104\\n476  Toyota  White         185742      4  16865\\n477  Toyota   Blue         119311      4  26816\\n478  Nissan   Blue         153781      4   9545\\n479  Nissan  White         246825      3  13647\\n480  Toyota  Black         225991      4  12581\\n481  Toyota    Red         159925      4  14028\\n482  Nissan  White          51004      4  31633\\n483  Toyota  White         216076      4  12152\\n484  Toyota  White         231683      4  16001\\n485  Toyota   Blue         135237      4  18358\\n486  Nissan  White         193389      4   7443\\n487  Toyota  White         143104      4   4589\\n488     BMW  White         146911      3  17076\\n489  Toyota  White         199985      4  21007\\n490   Honda  White          74501      4  29616\\n491  Toyota  White         114202      4  22505\\n492  Toyota  White          66150      4  25111\\n493   Honda   Blue          42420      4   7376\\n494  Nissan   Blue         111256      4  10919\\n495     BMW  Black         181572      5  25763\\n496  Nissan  White         186752      4   7882\\n497  Nissan    Red         209976      4   4200\\n498   Honda  Green          81764      4  29004\\n499  Nissan  White          82429      4   8979\\n500   Honda  Black         221461      4  10450\\n501   Honda  White          47712      4  18029\\n502   Honda   Blue         166897      4  10278\\n503  Toyota   Blue          35181      4  19175\\n504  Toyota  Black         222813      4   4106\\n505  Toyota  White         107410      4  24990\\n506  Toyota   Blue          14645      4  21326\\n507  Toyota   Blue          67120      4  16732\\n508  Nissan    Red         162535      4  17144\\n509  Nissan  White          26634      4  12024\\n510  Toyota  Green         118706      4  20705\\n511     BMW  Green         209340      5  29140\\n512  Nissan   Blue          38233      4  23483\\n513  Toyota   Blue         192543      4  13213\\n514  Nissan  White         152215      4  16519\\n515   Honda   Blue          30120      4   6357\\n516  Toyota    Red          68125      4   8105\\n517  Toyota   Blue         207048      4  10663\\n518   Honda  White         126854      4  12311\\n519   Honda    Red         236800      4   6174\\n520  Nissan   Blue         180739      4  19389\\n521  Nissan    Red         196130      3  13707\\n522   Honda  Green         164493      4  13866\\n523   Honda   Blue         207344      4   4941\\n524  Nissan  White         228090      4  16366\\n525  Toyota   Blue         180156      4  14086\\n526  Toyota  White         110362      4  13560\\n527   Honda  White         235294      4  10597\\n528   Honda  White          43148      4  29089\\n529     BMW   Blue          69358      5  47260\\n530  Toyota  White         124057      4  18919\\n531  Toyota   Blue         126078      4  14442\\n532  Nissan   Blue         224410      4  13244\\n533  Toyota  Green         221725      4   6742\\n534   Honda   Blue          35292      4  22042\\n535  Toyota  White          35673      4  35683\\n536   Honda  White         205597      4   4239\\n537   Honda   Blue          76579      4  20511\\n538  Nissan  White         137477      4  10630\\n539   Honda  White         120283      4  19376\\n540   Honda  Black          51328      4  10675\\n541  Toyota  Black         218253      4  13176\\n542  Toyota   Blue          39311      4  17520\\n543  Toyota  White         210193      4   5653\\n544   Honda  Black          27788      4  18919\\n545   Honda  White         175309      4   4034\\n546   Honda  Black         111097      4  16072\\n547   Honda    Red          16079      4   9954\\n548  Toyota   Blue          89641      4  33463\\n549     BMW   Blue          72663      5  40032\\n550  Toyota    Red          86284      4  22542\\n551   Honda  White          95481      4   8687\\n552   Honda  White         214405      4   7982\\n553   Honda  White          52563      4  26078\\n554   Honda  White         113704      4  23280\\n555   Honda   Blue          73869      4  27744\\n556   Honda  White          95579      4  11135\\n557   Honda  Black          45152      4  22825\\n558   Honda  Green         194035      4  11648\\n559  Toyota   Blue         220679      4  15508\\n560   Honda   Blue         102032      4  19036\\n561  Toyota  Green          58938      4   6602\\n562  Toyota  White         148952      4  14021\\n563  Toyota   Blue         193276      4  10522\\n564  Nissan   Blue         189182      3  18834\\n565  Toyota  White         197393      4  20879\\n566   Honda  White          42844      4  29145\\n567  Toyota  White         122266      4  17664\\n568  Toyota    Red         240017      4  13728\\n569  Toyota  Green          88598      4  19373\\n570  Toyota   Blue         216563      4   7903\\n571   Honda  Black         123924      4  21236\\n572  Toyota  White         185455      4  16220\\n573  Nissan  Green         163080      4   7973\\n574  Toyota  White          53531      4   7802\\n575   Honda   Blue         142403      4   6803\\n576  Nissan  White         127386      4   8461\\n577  Toyota  White         142633      4  10402\\n578  Toyota   Blue         215955      4   7994\\n579  Nissan   Blue          46842      4  28655\\n580  Nissan    Red          86217      4  13127\\n581   Honda  Black         222786      4  15233\\n582   Honda  White         130494      4   5513\\n583  Toyota  White         181016      4  20521\\n584     BMW  White          96224      5  45720\\n585   Honda   Blue         176566      4  13257\\n586  Toyota   Blue         171373      4   9529\\n587  Toyota  Green         241507      4   7724\\n588   Honda    Red          86427      4  30854\\n589  Toyota  White         210863      4  12112\\n590  Toyota  White         216647      4  10207\\n591     BMW   Blue          35837      3  33198\\n592   Honda   Blue         166595      4   5138\\n593   Honda   Blue          68223      4  27530\\n594   Honda   Blue         223005      4  14431\\n595   Honda  Black          61120      4  30374\\n596   Honda   Blue          83357      4  22263\\n597  Nissan  White          20315      4   8137\\n598  Toyota   Blue         152042      4  20590\\n599   Honda  Black         213154      4   8192\\n600  Nissan  White          24741      4  20840\\n601  Toyota   Blue         247601      4  11162\\n602   Honda   Blue          40912      4  26885\\n603  Nissan  Black         218697      4   5157\\n604  Toyota  White          26655      4  11749\\n605   Honda  White          42137      4  10298\\n606  Toyota  Black          71463      4  31206\\n607  Toyota   Blue         149270      4  21953\\n608   Honda   Blue          66613      4  20450\\n609  Toyota  White          48674      4  18976\\n610   Honda  White         123898      4  20622\\n611  Toyota  Black         136271      4  20242\\n612   Honda  Black         119033      4  16774\\n613   Honda   Blue          50475      4   8164\\n614   Honda  White          42379      4  25382\\n615   Honda  Black         147889      4   8916\\n616  Nissan  Green          76610      3  16320\\n617  Nissan   Blue         249860      4  14524\\n618   Honda    Red         113538      4  15995\\n619   Honda  White         152212      4  10580\\n620     BMW  White          26531      5  19408\\n621  Toyota  White         137628      4  18142\\n622  Toyota   Blue          33461      4  33850\\n623   Honda  White         178134      4   8870\\n624  Toyota  White          74919      4   7183\\n625   Honda  Green         165101      4  10377\\n626  Nissan  White         235952      4  13272\\n627  Nissan  Black          77474      4  22924\\n628   Honda  White         121416      4  17690\\n629   Honda   Blue         196507      4  17065\\n630  Toyota   Blue          95993      4  28073\\n631  Nissan  Green          87701      4  29656\\n632     BMW  White         192673      5  23377\\n633  Nissan  White         205155      3  10287\\n634     BMW  White         242935      3  14767\\n635   Honda    Red         101835      4  16110\\n636  Toyota  Black          26798      4  28276\\n637  Toyota    Red          88571      4  21431\\n638  Toyota    Red          49807      4  25775\\n639  Nissan  White          71103      4   6884\\n640   Honda  White         237209      4  10494\\n641  Toyota  Green          37703      4  31343\\n642  Toyota  White          26191      4  15372\\n643  Toyota   Blue         213344      4  17052\\n644   Honda   Blue          28561      4  14204\\n645  Toyota   Blue         155018      4  10024\\n646   Honda   Blue         120448      4  12392\\n647  Nissan  White          19265      4  21451\\n648   Honda  White          40134      4  16273\\n649  Toyota  Black          86696      4  30320\\n650  Toyota   Blue          23637      4  35281\\n651  Nissan    Red         166895      4  10061\\n652  Nissan  White          19482      3  31208\\n653     BMW   Blue          40774      5  26834\\n654  Toyota  White         202435      4  16867\\n655  Toyota  White          72725      4  25735\\n656  Toyota   Blue          63501      4  15260\\n657  Toyota  Black         228063      4  16308\\n658  Nissan    Red         143204      3  16719\\n659  Toyota  Green         213077      4   9168\\n660     BMW   Blue         209466      5  26880\\n661     BMW  White          33320      3  27888\\n662   Honda  White         236432      4   7496\\n663   Honda   Blue          41846      4  10241\\n664     BMW    Red          38775      5  20532\\n665  Toyota   Blue         226217      4  15413\\n666   Honda  White         211154      4   9402\\n667  Toyota  White         248416      4  14717\\n668  Nissan    Red         200403      4  15154\\n669  Nissan  Green         233054      4   8930\\n670  Toyota  White         138294      4  11626\\n671  Toyota   Blue          84787      4  28414\\n672  Toyota  White         176172      4  18923\\n673  Nissan  Black         170777      4   9649\\n674     BMW  White         235774      5  29401\\n675   Honda   Blue         161140      4  11364\\n676  Toyota   Blue         189781      4  10352\\n677   Honda  White         117907      4  16908\\n678  Toyota  Green         213861      4   3751\\n679  Toyota    Red         248634      4   9919\\n680   Honda  Black          38327      4  23728\\n681   Honda  White         225600      4   9492\\n682     BMW  Black          54141      5  37518\\n683   Honda   Blue         163297      4  13263\\n684   Honda  White          24180      4   9710\\n685  Toyota  Black          98409      4  32863\\n686  Toyota  White         228619      4  12058\\n687   Honda  Black         232910      4   6690\\n688  Nissan   Blue          28390      3   6504\\n689  Nissan  White         152006      3   4165\\n690  Nissan  Green         107112      3  16345\\n691   Honda  Black         189001      4   5843\\n692  Nissan  White          48730      4  11210\\n693  Nissan  White         192747      4   6750\\n694  Toyota   Blue         177356      4  15827\\n695  Toyota  White         146824      4  16285\\n696   Honda  White          64574      4  17654\\n697  Toyota  White         244404      4  13334\\n698  Nissan  White          66199      4  27557\\n699  Toyota   Blue         199315      4  19453\\n700   Honda   Blue         203447      4   3509\\n701   Honda   Blue         158301      4  15297\\n702   Honda  White          82518      4  22587\\n703   Honda   Blue         224900      4   9104\\n704   Honda  White          56523      4   6207\\n705  Toyota    Red          98854      4  29876\\n706   Honda  Black         151414      4  12186\\n707  Nissan  White         222917      4  15673\\n708   Honda   Blue          67875      4  17152\\n709     BMW   Blue         134103      5  36109\\n710  Nissan  White         177272      4  18248\\n711   Honda  Black          88002      4  20219\\n712  Toyota  Black         112622      4  15778\\n713  Toyota    Red         185940      4   9685\\n714   Honda    Red         172705      4  17324\\n715  Toyota  White         105837      4  23844\\n716  Toyota  White         124205      4   6917\\n717  Nissan  White          87997      4  28596\\n718   Honda  White         148238      4  11303\\n719  Toyota  White          10217      4  22883\\n720     BMW  White          57905      3  50868\\n721   Honda  White          70154      4  27852\\n722     BMW   Blue         165375      5  26540\\n723  Toyota  White         223727      4  12901\\n724  Toyota  White          81656      4  14282\\n725  Toyota    Red         189278      4   9222\\n726     BMW  White         227845      5  11298\\n727   Honda  White          13116      4  16464\\n728  Toyota  White          69222      4  29363\\n729   Honda   Blue         197664      4  12950\\n730  Toyota  Black         146848      4   7286\\n731   Honda   Blue          76252      4   9500\\n732   Honda  White         121791      4   6920\\n733   Honda   Blue          77978      4  18199\\n734  Toyota  White         235792      4  10726\\n735  Toyota  Black         197498      4   6956\\n736  Toyota  White         129188      4  17609\\n737  Toyota   Blue         223875      4  12650\\n738  Nissan   Blue          96785      4  22949\\n739   Honda  White         187380      4   4022\\n740     BMW  Black          11049      3  19500\\n741  Toyota   Blue          76416      4  21653\\n742     BMW  White         228678      5  18557\\n743   Honda    Red          47404      4  23554\\n744  Toyota  Green         172493      4  14698\\n745   Honda  White          11119      4  20845\\n746     BMW  Black         201190      3  16705\\n747  Toyota   Blue         192890      4  20130\\n748  Toyota  Black          72287      4  13934\\n749  Toyota  Black         115739      4   8513\\n750   Honda  Green         208651      4  13722\\n751  Nissan   Blue         195105      3   7823\\n752  Toyota   Blue         240627      4   5285\\n753     BMW   Blue          37983      3  30020\\n754     BMW  White         168854      5  23240\\n755     BMW   Blue          60499      5  11708\\n756  Toyota  White          46848      4  17795\\n757  Nissan   Blue         233501      4   2796\\n758  Toyota  Black          97042      4   8203\\n759  Nissan    Red         113987      4   4968\\n760  Nissan  Green         223555      4  11854\\n761  Nissan   Blue          63686      4  14432\\n762  Toyota  White         147230      4  16645\\n763   Honda   Blue          21146      4  23064\\n764  Toyota   Blue         166679      4  18222\\n765   Honda    Red         108794      4  15962\\n766  Toyota   Blue         229110      4  17258\\n767  Nissan    Red          90110      4  21679\\n768   Honda   Blue         217068      4   4358\\n769   Honda  Black         133270      4  21612\\n770  Toyota  Green         202862      4  17635\\n771   Honda  White         136340      4  19271\\n772  Toyota  Green         209457      4  14590\\n773  Toyota  Black         224986      4  11233\\n774  Toyota  Green         201964      4  13637\\n775   Honda   Blue          63800      4  26308\\n776  Toyota   Blue          61337      4  28830\\n777   Honda   Blue         190532      4   8479\\n778  Toyota  White         161870      4   7157\\n779     BMW   Blue         212644      5  19545\\n780  Toyota  White          30334      4  35687\\n781   Honda  Black         158337      4   4733\\n782  Nissan  White         219137      4   5865\\n783  Toyota  Black         140913      4  15967\\n784   Honda   Blue         195239      4  14944\\n785   Honda  White         178351      4  14331\\n786     BMW  Green         152243      5  20108\\n787  Toyota  White         245977      4  11036\\n788  Toyota  White          32748      4  30323\\n789  Toyota  Green          60344      4  13966\\n790   Honda   Blue         244434      4   8253\\n791  Nissan  White         198923      4   5135\\n792  Toyota  White         128294      4  13608\\n793     BMW   Blue         179255      5  33040\\n794  Toyota  White          22257      4  27868\\n795  Toyota  White          85800      4  20503\\n796  Toyota    Red         190211      4   4454\\n797  Toyota   Blue         103202      4  13394\\n798   Honda   Blue          48777      4   7910\\n799  Toyota  White          18812      4  22643\\n800   Honda  White          29541      4   8690\\n801   Honda    Red         123224      4  16488\\n802   Honda  White         192655      4  12609\\n803  Toyota   Blue         219420      4   8952\\n804  Toyota  White         185146      4   4566\\n805  Toyota    Red          77677      4  10638\\n806  Nissan  White         211504      4  14084\\n807  Toyota  Green          88519      4  18640\\n808  Toyota  White          78123      4  24629\\n809  Toyota  White         201039      4  16879\\n810  Nissan  Green         229929      4   9803\\n811     BMW  White          83309      5  45509\\n812  Toyota  White         148473      4  23386\\n813  Toyota  White          10247      4  32566\\n814     BMW   Blue          50363      5  30104\\n815   Honda   Blue         187630      4  15810\\n816  Nissan  Black         192250      4  10962\\n817  Toyota  White          95725      4  12523\\n818   Honda  White         136279      4   5933\\n819  Toyota  White         239554      4  10747\\n820   Honda  White         100884      4   5145\\n821  Nissan    Red         124112      4   7217\\n822  Nissan  White         114699      4  16016\\n823  Toyota   Blue         198983      4  18440\\n824  Toyota  Black         201753      4  15097\\n825  Nissan  White         195056      4  11140\\n826   Honda  White          30080      4  18429\\n827   Honda   Blue         171303      4  10821\\n828  Toyota    Red         220026      4   9554\\n829   Honda  White         154013      4  10130\\n830  Toyota   Blue         190406      4  20867\\n831     BMW    Red         175134      5  29487\\n832  Toyota  White         100107      4   9878\\n833     BMW  Green         117440      5  17322\\n834  Toyota   Blue         188036      4  18866\\n835  Toyota   Blue          34521      4  30191\\n836  Nissan   Blue          69954      4  20938\\n837     BMW    Red         149413      5  36864\\n838  Nissan  Green         235589      4   5905\\n839  Toyota   Blue         125939      4  10349\\n840   Honda  White         248301      4  14026\\n841   Honda   Blue         248899      4   5834\\n842  Nissan   Blue         209485      4  13474\\n843  Toyota  White          62712      4  24342\\n844     BMW  Green         112156      5  12904\\n845  Toyota  Green         243177      4   3125\\n846  Toyota  White          93593      4  29638\\n847   Honda  Green          94225      4  28599\\n848  Toyota   Blue          48684      4  33817\\n849  Toyota    Red         107799      4  13417\\n850  Toyota  White         112103      4   7898\\n851  Toyota  White          74984      4  16766\\n852     BMW   Blue         129040      5  32353\\n853  Nissan  White         166735      4   7350\\n854  Nissan  White         129883      4  23945\\n855   Honda  White         245327      4   8226\\n856  Toyota  White          51788      4   6480\\n857     BMW   Blue          31277      5  18139\\n858  Nissan  White          43191      4  14254\\n859  Nissan   Blue         191024      3   9450\\n860  Nissan  White          61876      4   5922\\n861     BMW  White          69066      5  22784\\n862   Honda   Blue          40635      4  12402\\n863  Toyota    Red          13050      4   9074\\n864   Honda  White          27426      4  26813\\n865  Toyota  Green         110078      4  13650\\n866     BMW  White         118286      5  14145\\n867     BMW  White         212920      3  11733\\n868     BMW  White          45513      5  38984\\n869   Honda  Black         231825      4  12988\\n870  Toyota  White         112968      4  18962\\n871   Honda    Red         118609      4   5465\\n872  Toyota  White         100657      4  26374\\n873  Toyota    Red         210870      4  16652\\n874  Toyota  White         218519      4   5201\\n875   Honda    Red         211735      4  14132\\n876   Honda  White         124924      4  19832\\n877  Toyota  White          14497      4  19838\\n878  Toyota  White         225284      4  12408\\n879   Honda   Blue         236760      4  12362\\n880   Honda   Blue         200219      4   4606\\n881  Toyota  Black          27139      4  22921\\n882     BMW  Black         204746      5  24494\\n883  Toyota  Green         106475      4  24242\\n884     BMW  White         152410      5  21580\\n885  Toyota  White          63832      4   6698\\n886  Toyota  White          73869      4  19572\\n887  Nissan  White          49310      4  27146\\n888     BMW   Blue         244095      5  25780\\n889  Toyota   Blue         229055      4  10865\\n890  Toyota  Black         144944      4  22873\\n891  Nissan  Black          10148      4  27337\\n892  Toyota   Blue         181466      4  14388\\n893  Toyota  White         248815      4   9785\\n894   Honda  White          56534      4   6676\\n895  Nissan  White          48277      4  11406\\n896  Toyota  Green         212623      4   9073\\n897  Toyota  White          28809      4  22139\\n898  Toyota   Blue         237448      4  16202\\n899  Toyota   Blue          23241      4  14203\\n900  Nissan  White         135032      3   6214\\n901  Nissan  White         213449      3   7425\\n902     BMW  White          84327      5  38233\\n903  Toyota  White         104722      4  21006\\n904  Toyota  White         196225      4  19812\\n905   Honda   Blue          39835      4  23840\\n906     BMW  White          16274      5  52458\\n907     BMW    Red         149704      5   9362\\n908  Nissan  White         237645      3  15861\\n909     BMW  White         232696      5  26940\\n910  Nissan  White          40598      4  24122\\n911  Nissan  White          83345      4   6476\\n912  Nissan   Blue         234146      3  12522\\n913  Nissan  Black         239908      4   6567\\n914   Honda  White         245239      4  11182\\n915     BMW   Blue         152772      3  14588\\n916   Honda  Black         134825      4  17315\\n917  Toyota  White          66633      4   7300\\n918   Honda   Blue         228279      4  13519\\n919   Honda  Black         231659      4   9826\\n920  Nissan  White          19134      4  23439\\n921  Toyota   Blue         149927      4   8321\\n922   Honda    Red          98523      4  29959\\n923   Honda  White         161712      4  13546\\n924  Nissan    Red         113278      3  15666\\n925  Toyota  Green          65241      4  11454\\n926   Honda  White         101311      4   5421\\n927  Nissan  White         161699      4   5594\\n928     BMW    Red         176660      5  14134\\n929   Honda  White          31418      4  22816\\n930  Nissan  White         143520      4   7433\\n931  Toyota  White         149655      4  14650\\n932  Toyota  White         122453      4  24178\\n933  Toyota  White          21083      4  35333\\n934   Honda  White         219635      4  12216\\n935  Nissan  Green         203302      4   5548\\n936   Honda   Blue         178863      4   5168\\n937  Toyota    Red         148518      4  25104\\n938   Honda  Black         143649      4   7874\\n939  Nissan    Red         153074      4  17487\\n940   Honda  White          53474      4  19913\\n941  Toyota    Red         166046      4   7955\\n942  Nissan   Blue         228192      4  12641\\n943  Toyota   Blue         221076      4   8786\\n944  Toyota  White          88224      4  24304\\n945     BMW    Red         156064      5  17105\\n946  Toyota  Green         132714      4  17076\\n947  Toyota   Blue          17609      4  27516\\n948  Toyota  Black          43171      4  24354\\n949  Nissan   Blue          57558      3  16622\\n950   Honda  White          52414      4  11548\\n951   Honda  White         186495      4  14849\\n952  Nissan  White         136022      4  21188\\n953     BMW  White         102773      5  29551\\n954  Toyota   Blue          92777      4  32509\\n955  Toyota  Black         103682      4  10261\\n956  Toyota  Black          90508      4  33758\\n957  Nissan    Red          39639      3  12315\\n958   Honda   Blue          26824      4  28422\\n959  Nissan  White         186786      4  10140\\n960   Honda  White         208131      4  13070\\n961  Toyota  White         239760      4   4896\\n962   Honda   Blue          96308      4  15010\\n963  Toyota  White         107043      4   7126\\n964  Toyota   Blue          39753      4  34231\\n965   Honda   Blue         168261      4  14691\\n966   Honda  Black          94941      4  27598\\n967     BMW  Green          26839      5  15224\\n968  Nissan  White         227278      4   9319\\n969     BMW   Blue          45207      5  35254\\n970  Toyota   Blue         186309      4  16416\\n971     BMW  Black         178164      3  24891\\n972   Honda  White         137690      4  17939\\n973   Honda  Green         237627      4   8430\\n974  Toyota  White         155383      4  14345\\n975   Honda  White          22409      4  10429\\n976  Toyota   Blue          95317      4   7435\\n977  Toyota   Blue         128016      4  16835\\n978     BMW  White          85739      5  48419\\n979  Toyota  Black          17975      4  17940\\n980  Toyota   Blue         230314      4   6720\\n981  Toyota  White         129454      4   6446\\n982   Honda  White         238172      4  13273\\n983  Toyota    Red         183330      4  14671\\n984  Nissan   Blue         157235      4   4196\\n985   Honda   Blue         216250      4   9691\\n986   Honda  White          71934      4  26882\\n987   Honda  White         215235      4   3825\\n988  Nissan  Black         248736      4   8358\\n989  Toyota    Red          41735      4  13928\\n990  Toyota  White         173408      4   8082\\n991   Honda   Blue         235985      4   9184\\n992   Honda  Green          54721      4  27419\\n993  Nissan  Black         162523      4   4696\\n994     BMW   Blue         163322      3  31666\\n995  Toyota  Black          35820      4  32042\\n996  Nissan  White         155144      3   5716\\n997  Nissan   Blue          66604      4  31570\\n998   Honda  White         215883      4   4001\\n999  Toyota   Blue         248360      4  12732'"
      ]
     },
     "execution_count": 17,
     "metadata": {},
     "output_type": "execute_result"
    }
   ],
   "source": [
    "# Tip: use .to_string() to print the entire DataFrame\n",
    "data.to_string()"
   ]
  },
  {
   "cell_type": "code",
   "execution_count": 18,
   "id": "198c0730",
   "metadata": {},
   "outputs": [
    {
     "data": {
      "text/html": [
       "<div>\n",
       "<style scoped>\n",
       "    .dataframe tbody tr th:only-of-type {\n",
       "        vertical-align: middle;\n",
       "    }\n",
       "\n",
       "    .dataframe tbody tr th {\n",
       "        vertical-align: top;\n",
       "    }\n",
       "\n",
       "    .dataframe thead th {\n",
       "        text-align: right;\n",
       "    }\n",
       "</style>\n",
       "<table border=\"1\" class=\"dataframe\">\n",
       "  <thead>\n",
       "    <tr style=\"text-align: right;\">\n",
       "      <th></th>\n",
       "      <th>Make</th>\n",
       "      <th>Colour</th>\n",
       "      <th>Odometer (KM)</th>\n",
       "      <th>Doors</th>\n",
       "      <th>Price</th>\n",
       "    </tr>\n",
       "  </thead>\n",
       "  <tbody>\n",
       "    <tr>\n",
       "      <th>0</th>\n",
       "      <td>Honda</td>\n",
       "      <td>White</td>\n",
       "      <td>35431</td>\n",
       "      <td>4</td>\n",
       "      <td>15323</td>\n",
       "    </tr>\n",
       "    <tr>\n",
       "      <th>1</th>\n",
       "      <td>BMW</td>\n",
       "      <td>Blue</td>\n",
       "      <td>192714</td>\n",
       "      <td>5</td>\n",
       "      <td>19943</td>\n",
       "    </tr>\n",
       "    <tr>\n",
       "      <th>2</th>\n",
       "      <td>Honda</td>\n",
       "      <td>White</td>\n",
       "      <td>84714</td>\n",
       "      <td>4</td>\n",
       "      <td>28343</td>\n",
       "    </tr>\n",
       "    <tr>\n",
       "      <th>3</th>\n",
       "      <td>Toyota</td>\n",
       "      <td>White</td>\n",
       "      <td>154365</td>\n",
       "      <td>4</td>\n",
       "      <td>13434</td>\n",
       "    </tr>\n",
       "    <tr>\n",
       "      <th>4</th>\n",
       "      <td>Nissan</td>\n",
       "      <td>Blue</td>\n",
       "      <td>181577</td>\n",
       "      <td>3</td>\n",
       "      <td>14043</td>\n",
       "    </tr>\n",
       "    <tr>\n",
       "      <th>...</th>\n",
       "      <td>...</td>\n",
       "      <td>...</td>\n",
       "      <td>...</td>\n",
       "      <td>...</td>\n",
       "      <td>...</td>\n",
       "    </tr>\n",
       "    <tr>\n",
       "      <th>995</th>\n",
       "      <td>Toyota</td>\n",
       "      <td>Black</td>\n",
       "      <td>35820</td>\n",
       "      <td>4</td>\n",
       "      <td>32042</td>\n",
       "    </tr>\n",
       "    <tr>\n",
       "      <th>996</th>\n",
       "      <td>Nissan</td>\n",
       "      <td>White</td>\n",
       "      <td>155144</td>\n",
       "      <td>3</td>\n",
       "      <td>5716</td>\n",
       "    </tr>\n",
       "    <tr>\n",
       "      <th>997</th>\n",
       "      <td>Nissan</td>\n",
       "      <td>Blue</td>\n",
       "      <td>66604</td>\n",
       "      <td>4</td>\n",
       "      <td>31570</td>\n",
       "    </tr>\n",
       "    <tr>\n",
       "      <th>998</th>\n",
       "      <td>Honda</td>\n",
       "      <td>White</td>\n",
       "      <td>215883</td>\n",
       "      <td>4</td>\n",
       "      <td>4001</td>\n",
       "    </tr>\n",
       "    <tr>\n",
       "      <th>999</th>\n",
       "      <td>Toyota</td>\n",
       "      <td>Blue</td>\n",
       "      <td>248360</td>\n",
       "      <td>4</td>\n",
       "      <td>12732</td>\n",
       "    </tr>\n",
       "  </tbody>\n",
       "</table>\n",
       "<p>1000 rows × 5 columns</p>\n",
       "</div>"
      ],
      "text/plain": [
       "       Make Colour  Odometer (KM)  Doors  Price\n",
       "0     Honda  White          35431      4  15323\n",
       "1       BMW   Blue         192714      5  19943\n",
       "2     Honda  White          84714      4  28343\n",
       "3    Toyota  White         154365      4  13434\n",
       "4    Nissan   Blue         181577      3  14043\n",
       "..      ...    ...            ...    ...    ...\n",
       "995  Toyota  Black          35820      4  32042\n",
       "996  Nissan  White         155144      3   5716\n",
       "997  Nissan   Blue          66604      4  31570\n",
       "998   Honda  White         215883      4   4001\n",
       "999  Toyota   Blue         248360      4  12732\n",
       "\n",
       "[1000 rows x 5 columns]"
      ]
     },
     "execution_count": 18,
     "metadata": {},
     "output_type": "execute_result"
    }
   ],
   "source": [
    "data"
   ]
  },
  {
   "cell_type": "code",
   "execution_count": 19,
   "id": "4c305921",
   "metadata": {},
   "outputs": [],
   "source": [
    "# JSON is a plain text, but has the format of an object.\n",
    "# JSON objects have the same format as python dictionaries"
   ]
  },
  {
   "cell_type": "markdown",
   "id": "840304d9",
   "metadata": {},
   "source": [
    "# Viewing the Data\n"
   ]
  },
  {
   "cell_type": "code",
   "execution_count": 20,
   "id": "f7ae92ae",
   "metadata": {},
   "outputs": [
    {
     "data": {
      "text/html": [
       "<div>\n",
       "<style scoped>\n",
       "    .dataframe tbody tr th:only-of-type {\n",
       "        vertical-align: middle;\n",
       "    }\n",
       "\n",
       "    .dataframe tbody tr th {\n",
       "        vertical-align: top;\n",
       "    }\n",
       "\n",
       "    .dataframe thead th {\n",
       "        text-align: right;\n",
       "    }\n",
       "</style>\n",
       "<table border=\"1\" class=\"dataframe\">\n",
       "  <thead>\n",
       "    <tr style=\"text-align: right;\">\n",
       "      <th></th>\n",
       "      <th>Make</th>\n",
       "      <th>Colour</th>\n",
       "      <th>Odometer (KM)</th>\n",
       "      <th>Doors</th>\n",
       "      <th>Price</th>\n",
       "    </tr>\n",
       "  </thead>\n",
       "  <tbody>\n",
       "    <tr>\n",
       "      <th>0</th>\n",
       "      <td>Honda</td>\n",
       "      <td>White</td>\n",
       "      <td>35431</td>\n",
       "      <td>4</td>\n",
       "      <td>15323</td>\n",
       "    </tr>\n",
       "    <tr>\n",
       "      <th>1</th>\n",
       "      <td>BMW</td>\n",
       "      <td>Blue</td>\n",
       "      <td>192714</td>\n",
       "      <td>5</td>\n",
       "      <td>19943</td>\n",
       "    </tr>\n",
       "    <tr>\n",
       "      <th>2</th>\n",
       "      <td>Honda</td>\n",
       "      <td>White</td>\n",
       "      <td>84714</td>\n",
       "      <td>4</td>\n",
       "      <td>28343</td>\n",
       "    </tr>\n",
       "    <tr>\n",
       "      <th>3</th>\n",
       "      <td>Toyota</td>\n",
       "      <td>White</td>\n",
       "      <td>154365</td>\n",
       "      <td>4</td>\n",
       "      <td>13434</td>\n",
       "    </tr>\n",
       "    <tr>\n",
       "      <th>4</th>\n",
       "      <td>Nissan</td>\n",
       "      <td>Blue</td>\n",
       "      <td>181577</td>\n",
       "      <td>3</td>\n",
       "      <td>14043</td>\n",
       "    </tr>\n",
       "  </tbody>\n",
       "</table>\n",
       "</div>"
      ],
      "text/plain": [
       "     Make Colour  Odometer (KM)  Doors  Price\n",
       "0   Honda  White          35431      4  15323\n",
       "1     BMW   Blue         192714      5  19943\n",
       "2   Honda  White          84714      4  28343\n",
       "3  Toyota  White         154365      4  13434\n",
       "4  Nissan   Blue         181577      3  14043"
      ]
     },
     "execution_count": 20,
     "metadata": {},
     "output_type": "execute_result"
    }
   ],
   "source": [
    "data.head()"
   ]
  },
  {
   "cell_type": "code",
   "execution_count": 21,
   "id": "94867d74",
   "metadata": {},
   "outputs": [
    {
     "data": {
      "text/html": [
       "<div>\n",
       "<style scoped>\n",
       "    .dataframe tbody tr th:only-of-type {\n",
       "        vertical-align: middle;\n",
       "    }\n",
       "\n",
       "    .dataframe tbody tr th {\n",
       "        vertical-align: top;\n",
       "    }\n",
       "\n",
       "    .dataframe thead th {\n",
       "        text-align: right;\n",
       "    }\n",
       "</style>\n",
       "<table border=\"1\" class=\"dataframe\">\n",
       "  <thead>\n",
       "    <tr style=\"text-align: right;\">\n",
       "      <th></th>\n",
       "      <th>Make</th>\n",
       "      <th>Colour</th>\n",
       "      <th>Odometer (KM)</th>\n",
       "      <th>Doors</th>\n",
       "      <th>Price</th>\n",
       "    </tr>\n",
       "  </thead>\n",
       "  <tbody>\n",
       "    <tr>\n",
       "      <th>995</th>\n",
       "      <td>Toyota</td>\n",
       "      <td>Black</td>\n",
       "      <td>35820</td>\n",
       "      <td>4</td>\n",
       "      <td>32042</td>\n",
       "    </tr>\n",
       "    <tr>\n",
       "      <th>996</th>\n",
       "      <td>Nissan</td>\n",
       "      <td>White</td>\n",
       "      <td>155144</td>\n",
       "      <td>3</td>\n",
       "      <td>5716</td>\n",
       "    </tr>\n",
       "    <tr>\n",
       "      <th>997</th>\n",
       "      <td>Nissan</td>\n",
       "      <td>Blue</td>\n",
       "      <td>66604</td>\n",
       "      <td>4</td>\n",
       "      <td>31570</td>\n",
       "    </tr>\n",
       "    <tr>\n",
       "      <th>998</th>\n",
       "      <td>Honda</td>\n",
       "      <td>White</td>\n",
       "      <td>215883</td>\n",
       "      <td>4</td>\n",
       "      <td>4001</td>\n",
       "    </tr>\n",
       "    <tr>\n",
       "      <th>999</th>\n",
       "      <td>Toyota</td>\n",
       "      <td>Blue</td>\n",
       "      <td>248360</td>\n",
       "      <td>4</td>\n",
       "      <td>12732</td>\n",
       "    </tr>\n",
       "  </tbody>\n",
       "</table>\n",
       "</div>"
      ],
      "text/plain": [
       "       Make Colour  Odometer (KM)  Doors  Price\n",
       "995  Toyota  Black          35820      4  32042\n",
       "996  Nissan  White         155144      3   5716\n",
       "997  Nissan   Blue          66604      4  31570\n",
       "998   Honda  White         215883      4   4001\n",
       "999  Toyota   Blue         248360      4  12732"
      ]
     },
     "execution_count": 21,
     "metadata": {},
     "output_type": "execute_result"
    }
   ],
   "source": [
    "data.tail()"
   ]
  },
  {
   "cell_type": "code",
   "execution_count": 23,
   "id": "54d29c1c",
   "metadata": {},
   "outputs": [
    {
     "name": "stdout",
     "output_type": "stream",
     "text": [
      "<class 'pandas.core.frame.DataFrame'>\n",
      "RangeIndex: 1000 entries, 0 to 999\n",
      "Data columns (total 5 columns):\n",
      " #   Column         Non-Null Count  Dtype \n",
      "---  ------         --------------  ----- \n",
      " 0   Make           1000 non-null   object\n",
      " 1   Colour         1000 non-null   object\n",
      " 2   Odometer (KM)  1000 non-null   int64 \n",
      " 3   Doors          1000 non-null   int64 \n",
      " 4   Price          1000 non-null   int64 \n",
      "dtypes: int64(3), object(2)\n",
      "memory usage: 39.2+ KB\n"
     ]
    }
   ],
   "source": [
    "# All info about the Data \n",
    "data.info()"
   ]
  },
  {
   "cell_type": "markdown",
   "id": "2f1f8dd6",
   "metadata": {},
   "source": [
    "# Cleaning Data \n",
    "Its means fixing bad data in the dataset.\n",
    "\n",
    "Bad data can be:\n",
    "\n",
    "    . Empty cells\n",
    "    . Data in wrong format\n",
    "    . Wrong data\n",
    "    . Duplicates \n"
   ]
  },
  {
   "cell_type": "code",
   "execution_count": 44,
   "id": "4508aec6",
   "metadata": {},
   "outputs": [
    {
     "name": "stdout",
     "output_type": "stream",
     "text": [
      "<class 'pandas.core.frame.DataFrame'>\n",
      "RangeIndex: 1000 entries, 0 to 999\n",
      "Data columns (total 5 columns):\n",
      " #   Column         Non-Null Count  Dtype  \n",
      "---  ------         --------------  -----  \n",
      " 0   Make           951 non-null    object \n",
      " 1   Colour         950 non-null    object \n",
      " 2   Odometer (KM)  950 non-null    float64\n",
      " 3   Doors          950 non-null    float64\n",
      " 4   Price          950 non-null    float64\n",
      "dtypes: float64(3), object(2)\n",
      "memory usage: 39.2+ KB\n"
     ]
    }
   ],
   "source": [
    "data = pd.read_csv('/home/aynaval/Desktop/sample_project/zero-to-mastery-ml-master/data/car-sales-extended-missing-data.csv')\n",
    "data.info()"
   ]
  },
  {
   "cell_type": "markdown",
   "id": "0c0d199b",
   "metadata": {},
   "source": [
    "# Removing Rows \n",
    "One way to remove cells is to remove rows that contain empty cells.\n",
    "\n"
   ]
  },
  {
   "cell_type": "code",
   "execution_count": 38,
   "id": "ea96f991",
   "metadata": {},
   "outputs": [],
   "source": [
    "data = data.dropna() #data.dropna(inplace= True)\n"
   ]
  },
  {
   "cell_type": "code",
   "execution_count": 39,
   "id": "f5e1d2e0",
   "metadata": {},
   "outputs": [
    {
     "name": "stdout",
     "output_type": "stream",
     "text": [
      "<class 'pandas.core.frame.DataFrame'>\n",
      "Int64Index: 773 entries, 0 to 999\n",
      "Data columns (total 5 columns):\n",
      " #   Column         Non-Null Count  Dtype  \n",
      "---  ------         --------------  -----  \n",
      " 0   Make           773 non-null    object \n",
      " 1   Colour         773 non-null    object \n",
      " 2   Odometer (KM)  773 non-null    float64\n",
      " 3   Doors          773 non-null    float64\n",
      " 4   Price          773 non-null    float64\n",
      "dtypes: float64(3), object(2)\n",
      "memory usage: 36.2+ KB\n"
     ]
    }
   ],
   "source": [
    "data.info()"
   ]
  },
  {
   "cell_type": "code",
   "execution_count": null,
   "id": "1eb2b0ee",
   "metadata": {},
   "outputs": [],
   "source": [
    "data = pd.read_csv('/home/aynaval/Desktop/sample_project/zero-to-mastery-ml-master/data/car-sales-extended-missing-data.csv')\n",
    "data.info()"
   ]
  },
  {
   "cell_type": "markdown",
   "id": "6115bda5",
   "metadata": {},
   "source": [
    "# Replace empty values \n",
    "This way we don't have to delete entire row just because of some empty cells. \n",
    "Missing values can be replaced with mean, median, mode or any specific value.\n",
    "It can be done on a specified column also. "
   ]
  },
  {
   "cell_type": "code",
   "execution_count": 46,
   "id": "1ce91dd5",
   "metadata": {},
   "outputs": [],
   "source": [
    "data.fillna(method='backfill', inplace=True) "
   ]
  },
  {
   "cell_type": "code",
   "execution_count": 47,
   "id": "07d55f88",
   "metadata": {},
   "outputs": [
    {
     "name": "stdout",
     "output_type": "stream",
     "text": [
      "<class 'pandas.core.frame.DataFrame'>\n",
      "RangeIndex: 1000 entries, 0 to 999\n",
      "Data columns (total 5 columns):\n",
      " #   Column         Non-Null Count  Dtype  \n",
      "---  ------         --------------  -----  \n",
      " 0   Make           1000 non-null   object \n",
      " 1   Colour         1000 non-null   object \n",
      " 2   Odometer (KM)  1000 non-null   float64\n",
      " 3   Doors          1000 non-null   float64\n",
      " 4   Price          1000 non-null   float64\n",
      "dtypes: float64(3), object(2)\n",
      "memory usage: 39.2+ KB\n"
     ]
    }
   ],
   "source": [
    "data.info()"
   ]
  },
  {
   "cell_type": "markdown",
   "id": "8d670b24",
   "metadata": {},
   "source": [
    "# Cleaning data of wrong format \n",
    "We have two options : remove the rows, or convert all cells in the column into the same format"
   ]
  },
  {
   "cell_type": "markdown",
   "id": "ae50df42",
   "metadata": {},
   "source": [
    "# Converting into a Correct Format\n",
    "eg: df['date']= pd.to_datatime(df['date'])"
   ]
  },
  {
   "cell_type": "markdown",
   "id": "6ca2427b",
   "metadata": {},
   "source": [
    "# Removing rows \n",
    "use drapna to remove empty rows or use a conditional statement to remove rows as per the requirnment"
   ]
  },
  {
   "cell_type": "markdown",
   "id": "7f490c28",
   "metadata": {},
   "source": [
    "# Fixing wrong Data\n",
    "\"Wrong data\" does not have to be \"empty cells\" or \"wrong format\", it can be just wrong like if its registered 199 instead of 1.99.\n",
    "\n",
    "This can be fixed by replacing value or remocing rows."
   ]
  },
  {
   "cell_type": "code",
   "execution_count": 56,
   "id": "7a5db27d",
   "metadata": {},
   "outputs": [],
   "source": [
    "data.loc[2, 'Doors'] = 1"
   ]
  },
  {
   "cell_type": "markdown",
   "id": "73372d1e",
   "metadata": {},
   "source": [
    "# Discoverig Duplicates \n"
   ]
  },
  {
   "cell_type": "code",
   "execution_count": 84,
   "id": "16411565",
   "metadata": {},
   "outputs": [
    {
     "data": {
      "text/plain": [
       "0      False\n",
       "1      False\n",
       "2      False\n",
       "3      False\n",
       "4      False\n",
       "       ...  \n",
       "995    False\n",
       "996    False\n",
       "997    False\n",
       "998    False\n",
       "999    False\n",
       "Length: 1000, dtype: bool"
      ]
     },
     "execution_count": 84,
     "metadata": {},
     "output_type": "execute_result"
    }
   ],
   "source": [
    "data.duplicated()"
   ]
  },
  {
   "cell_type": "markdown",
   "id": "ad1d3967",
   "metadata": {},
   "source": [
    "# Removing Duplicates"
   ]
  },
  {
   "cell_type": "code",
   "execution_count": 86,
   "id": "ed71b546",
   "metadata": {},
   "outputs": [],
   "source": [
    "data.drop_duplicates(inplace= True)"
   ]
  },
  {
   "cell_type": "markdown",
   "id": "3fac06e8",
   "metadata": {},
   "source": [
    "# Data correlation\n",
    "***corr()*** method calculates the relationship between each column in the data.\n",
    "The corr method ignores \" not numeric\" columns \n"
   ]
  },
  {
   "cell_type": "code",
   "execution_count": 87,
   "id": "e8038845",
   "metadata": {},
   "outputs": [
    {
     "data": {
      "text/html": [
       "<div>\n",
       "<style scoped>\n",
       "    .dataframe tbody tr th:only-of-type {\n",
       "        vertical-align: middle;\n",
       "    }\n",
       "\n",
       "    .dataframe tbody tr th {\n",
       "        vertical-align: top;\n",
       "    }\n",
       "\n",
       "    .dataframe thead th {\n",
       "        text-align: right;\n",
       "    }\n",
       "</style>\n",
       "<table border=\"1\" class=\"dataframe\">\n",
       "  <thead>\n",
       "    <tr style=\"text-align: right;\">\n",
       "      <th></th>\n",
       "      <th>Odometer (KM)</th>\n",
       "      <th>Doors</th>\n",
       "      <th>Price</th>\n",
       "    </tr>\n",
       "  </thead>\n",
       "  <tbody>\n",
       "    <tr>\n",
       "      <th>Odometer (KM)</th>\n",
       "      <td>1.000000</td>\n",
       "      <td>-0.031819</td>\n",
       "      <td>-0.367038</td>\n",
       "    </tr>\n",
       "    <tr>\n",
       "      <th>Doors</th>\n",
       "      <td>-0.031819</td>\n",
       "      <td>1.000000</td>\n",
       "      <td>0.203879</td>\n",
       "    </tr>\n",
       "    <tr>\n",
       "      <th>Price</th>\n",
       "      <td>-0.367038</td>\n",
       "      <td>0.203879</td>\n",
       "      <td>1.000000</td>\n",
       "    </tr>\n",
       "  </tbody>\n",
       "</table>\n",
       "</div>"
      ],
      "text/plain": [
       "               Odometer (KM)     Doors     Price\n",
       "Odometer (KM)       1.000000 -0.031819 -0.367038\n",
       "Doors              -0.031819  1.000000  0.203879\n",
       "Price              -0.367038  0.203879  1.000000"
      ]
     },
     "execution_count": 87,
     "metadata": {},
     "output_type": "execute_result"
    }
   ],
   "source": [
    "data.corr()"
   ]
  },
  {
   "cell_type": "markdown",
   "id": "d4ab6219",
   "metadata": {},
   "source": [
    "# Plotting \n",
    "Pandas uses the ***plot()*** method to create diagrams.\n",
    "Pandas uses Pyplot, a submodule of the Matplotlib library to visualize the diagram on the screen. "
   ]
  },
  {
   "cell_type": "code",
   "execution_count": 88,
   "id": "9978bd50",
   "metadata": {},
   "outputs": [
    {
     "data": {
      "text/plain": [
       "<AxesSubplot:>"
      ]
     },
     "execution_count": 88,
     "metadata": {},
     "output_type": "execute_result"
    },
    {
     "data": {
      "image/png": "[encoded data removed]",
      "text/plain": [
       "<Figure size 432x288 with 1 Axes>"
      ]
     },
     "metadata": {
      "needs_background": "light"
     },
     "output_type": "display_data"
    }
   ],
   "source": [
    "%matplotlib inline\n",
    "data.plot()"
   ]
  },
  {
   "cell_type": "markdown",
   "id": "2cf075bd",
   "metadata": {},
   "source": [
    "# Scatter plot "
   ]
  },
  {
   "cell_type": "code",
   "execution_count": 89,
   "id": "30072ab3",
   "metadata": {},
   "outputs": [
    {
     "data": {
      "text/plain": [
       "<AxesSubplot:xlabel='Doors', ylabel='Price'>"
      ]
     },
     "execution_count": 89,
     "metadata": {},
     "output_type": "execute_result"
    },
    {
     "data": {
      "image/png": "[encoded data removed]",
      "text/plain": [
       "<Figure size 432x288 with 1 Axes>"
      ]
     },
     "metadata": {
      "needs_background": "light"
     },
     "output_type": "display_data"
    }
   ],
   "source": [
    "data.plot(kind = 'scatter',x= 'Doors' ,y = 'Price')"
   ]
  },
  {
   "cell_type": "markdown",
   "id": "4d8a5dc8",
   "metadata": {},
   "source": [
    "# Histogram \n",
    "A histogram shows us the frequency of each intervel"
   ]
  },
  {
   "cell_type": "code",
   "execution_count": 91,
   "id": "4fcd21b3",
   "metadata": {},
   "outputs": [
    {
     "data": {
      "text/plain": [
       "<AxesSubplot:ylabel='Frequency'>"
      ]
     },
     "execution_count": 91,
     "metadata": {},
     "output_type": "execute_result"
    },
    {
     "data": {
      "image/png": "[encoded data removed]",
      "text/plain": [
       "<Figure size 432x288 with 1 Axes>"
      ]
     },
     "metadata": {
      "needs_background": "light"
     },
     "output_type": "display_data"
    }
   ],
   "source": [
    "data.plot(kind = 'hist')"
   ]
  },
  {
   "cell_type": "code",
   "execution_count": 94,
   "id": "02334ddc",
   "metadata": {},
   "outputs": [
    {
     "data": {
      "text/html": [
       "<div>\n",
       "<style scoped>\n",
       "    .dataframe tbody tr th:only-of-type {\n",
       "        vertical-align: middle;\n",
       "    }\n",
       "\n",
       "    .dataframe tbody tr th {\n",
       "        vertical-align: top;\n",
       "    }\n",
       "\n",
       "    .dataframe thead th {\n",
       "        text-align: right;\n",
       "    }\n",
       "</style>\n",
       "<table border=\"1\" class=\"dataframe\">\n",
       "  <thead>\n",
       "    <tr style=\"text-align: right;\">\n",
       "      <th></th>\n",
       "      <th>Make</th>\n",
       "      <th>Colour</th>\n",
       "      <th>Odometer (KM)</th>\n",
       "      <th>Doors</th>\n",
       "      <th>Price</th>\n",
       "    </tr>\n",
       "  </thead>\n",
       "  <tbody>\n",
       "    <tr>\n",
       "      <th>0</th>\n",
       "      <td>Honda</td>\n",
       "      <td>White</td>\n",
       "      <td>35431.0</td>\n",
       "      <td>4.0</td>\n",
       "      <td>15323.0</td>\n",
       "    </tr>\n",
       "    <tr>\n",
       "      <th>1</th>\n",
       "      <td>BMW</td>\n",
       "      <td>Blue</td>\n",
       "      <td>192714.0</td>\n",
       "      <td>5.0</td>\n",
       "      <td>19943.0</td>\n",
       "    </tr>\n",
       "    <tr>\n",
       "      <th>2</th>\n",
       "      <td>Honda</td>\n",
       "      <td>White</td>\n",
       "      <td>84714.0</td>\n",
       "      <td>1.0</td>\n",
       "      <td>28343.0</td>\n",
       "    </tr>\n",
       "    <tr>\n",
       "      <th>3</th>\n",
       "      <td>Toyota</td>\n",
       "      <td>White</td>\n",
       "      <td>154365.0</td>\n",
       "      <td>4.0</td>\n",
       "      <td>13434.0</td>\n",
       "    </tr>\n",
       "    <tr>\n",
       "      <th>4</th>\n",
       "      <td>Nissan</td>\n",
       "      <td>Blue</td>\n",
       "      <td>181577.0</td>\n",
       "      <td>3.0</td>\n",
       "      <td>14043.0</td>\n",
       "    </tr>\n",
       "    <tr>\n",
       "      <th>...</th>\n",
       "      <td>...</td>\n",
       "      <td>...</td>\n",
       "      <td>...</td>\n",
       "      <td>...</td>\n",
       "      <td>...</td>\n",
       "    </tr>\n",
       "    <tr>\n",
       "      <th>995</th>\n",
       "      <td>Toyota</td>\n",
       "      <td>Black</td>\n",
       "      <td>35820.0</td>\n",
       "      <td>4.0</td>\n",
       "      <td>32042.0</td>\n",
       "    </tr>\n",
       "    <tr>\n",
       "      <th>996</th>\n",
       "      <td>Nissan</td>\n",
       "      <td>White</td>\n",
       "      <td>155144.0</td>\n",
       "      <td>3.0</td>\n",
       "      <td>5716.0</td>\n",
       "    </tr>\n",
       "    <tr>\n",
       "      <th>997</th>\n",
       "      <td>Nissan</td>\n",
       "      <td>Blue</td>\n",
       "      <td>66604.0</td>\n",
       "      <td>4.0</td>\n",
       "      <td>31570.0</td>\n",
       "    </tr>\n",
       "    <tr>\n",
       "      <th>998</th>\n",
       "      <td>Honda</td>\n",
       "      <td>White</td>\n",
       "      <td>215883.0</td>\n",
       "      <td>4.0</td>\n",
       "      <td>4001.0</td>\n",
       "    </tr>\n",
       "    <tr>\n",
       "      <th>999</th>\n",
       "      <td>Toyota</td>\n",
       "      <td>Blue</td>\n",
       "      <td>248360.0</td>\n",
       "      <td>4.0</td>\n",
       "      <td>12732.0</td>\n",
       "    </tr>\n",
       "  </tbody>\n",
       "</table>\n",
       "<p>1000 rows × 5 columns</p>\n",
       "</div>"
      ],
      "text/plain": [
       "       Make Colour  Odometer (KM)  Doors    Price\n",
       "0     Honda  White        35431.0    4.0  15323.0\n",
       "1       BMW   Blue       192714.0    5.0  19943.0\n",
       "2     Honda  White        84714.0    1.0  28343.0\n",
       "3    Toyota  White       154365.0    4.0  13434.0\n",
       "4    Nissan   Blue       181577.0    3.0  14043.0\n",
       "..      ...    ...            ...    ...      ...\n",
       "995  Toyota  Black        35820.0    4.0  32042.0\n",
       "996  Nissan  White       155144.0    3.0   5716.0\n",
       "997  Nissan   Blue        66604.0    4.0  31570.0\n",
       "998   Honda  White       215883.0    4.0   4001.0\n",
       "999  Toyota   Blue       248360.0    4.0  12732.0\n",
       "\n",
       "[1000 rows x 5 columns]"
      ]
     },
     "execution_count": 94,
     "metadata": {},
     "output_type": "execute_result"
    }
   ],
   "source": [
    "data"
   ]
  },
  {
   "cell_type": "code",
   "execution_count": null,
   "id": "80d7e2e8",
   "metadata": {},
   "outputs": [],
   "source": []
  }
 ],
 "metadata": {
  "kernelspec": {
   "display_name": "Python 3",
   "language": "python",
   "name": "python3"
  },
  "language_info": {
   "codemirror_mode": {
    "name": "ipython",
    "version": 3
   },
   "file_extension": ".py",
   "mimetype": "text/x-python",
   "name": "python",
   "nbconvert_exporter": "python",
   "pygments_lexer": "ipython3",
   "version": "3.9.4"
  }
 },
 "nbformat": 4,
 "nbformat_minor": 5
}
